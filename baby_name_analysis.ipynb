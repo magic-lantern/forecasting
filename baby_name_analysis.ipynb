{
 "cells": [
  {
   "cell_type": "markdown",
   "metadata": {},
   "source": [
    "## Name Analysis and forecasting\n",
    "\n",
    "Exploration of the United States Social Security Administration babynames dataset made available via R package [babynames](http://hadley.github.io/babynames/).\n",
    "\n",
    "* Plotting names\n",
    "* Using [Prophet](https://facebook.github.io/prophet/) to forecast if popularity will continue to rise or fall\n",
    "\n",
    "As the babynames package is in R, and I generally prefer Python, I've used the [rpy2](https://rpy2.bitbucket.io) library to pull in the appropriate portions of babynames\n",
    "\n",
    "### Table of Contents:\n",
    "* [Load Baby Names Data](#load_data)\n",
    "* [Prediction with Prophet](#prophet)\n",
    "* [Prediction with ARIMA](#arima)\n",
    "* [Combine names based on pronounciation](#sound_analysis)\n",
    "* [Name popularity](#popularity)\n",
    "* [Gender overlap in naming](#gender)"
   ]
  },
  {
   "cell_type": "markdown",
   "metadata": {},
   "source": [
    "### To Do:\n",
    "\n",
    "* Compare ARIMA to Prophet for forecast - As Prophet seems to be focused on more frequent data, I'm not convinced it works well with low resolution/infrequent data such as this yearly name data. Of course, I may just not understand how to properly specify parameters to get it to work right. Some URLs with more information regarding ARIMA in python:\n",
    "  * https://machinelearningmastery.com/arima-for-time-series-forecasting-with-python/\n",
    "  * https://blog.exploratory.io/is-prophet-better-than-arima-for-forecasting-time-series-fa9ae08a5851\n",
    "* Currently just looking at data since 1990. Would including more historical data improve forecast?"
   ]
  },
  {
   "cell_type": "code",
   "execution_count": 1,
   "metadata": {},
   "outputs": [],
   "source": [
    "import pandas as pd\n",
    "import numpy as np\n",
    "import rpy2.robjects as ro\n",
    "from rpy2.robjects.packages import importr\n",
    "from rpy2.robjects import pandas2ri\n",
    "from rpy2.robjects.conversion import localconverter\n",
    "# enable automatic conversion between R dataframes and Pandas Dataframes\n",
    "pandas2ri.activate()\n",
    "\n",
    "from fbprophet import Prophet\n",
    "from fbprophet.plot import add_changepoints_to_plot\n",
    "\n",
    "import matplotlib.pyplot as plt\n",
    "\n",
    "import os\n",
    "import pickle\n",
    "\n",
    "from timeit import default_timer as timer\n",
    "\n",
    "# to prevent some warnings later on\n",
    "from pandas.plotting import register_matplotlib_converters\n",
    "register_matplotlib_converters()"
   ]
  },
  {
   "cell_type": "code",
   "execution_count": 2,
   "metadata": {},
   "outputs": [],
   "source": [
    "%load_ext line_profiler"
   ]
  },
  {
   "cell_type": "code",
   "execution_count": 3,
   "metadata": {},
   "outputs": [],
   "source": [
    "import seaborn as sns\n",
    "sns.set()\n",
    "sns.set_style(\"ticks\", {\n",
    "    'axes.grid': True,\n",
    "    'grid.color': '.9',\n",
    "    'grid.linestyle': u'-',\n",
    "    'figure.facecolor': 'white', # axes\n",
    "})\n",
    "sns.set_context(\"notebook\")"
   ]
  },
  {
   "cell_type": "markdown",
   "metadata": {},
   "source": [
    "<a id='load_data'></a>"
   ]
  },
  {
   "cell_type": "markdown",
   "metadata": {},
   "source": [
    "### Loading the name data\n",
    "\n",
    "Summary of data available in the R package [babynames](http://hadley.github.io/babynames/):\n",
    "\n",
    "**babynames:** For each year from 1880 to 2017, the number of children of each sex given each name. All names with more than 5 uses are given. (Source: http://www.ssa.gov/oact/babynames/limits.html)\n",
    "\n",
    "**applicants:** The number of applicants for social security numbers (SSN) for each year for each sex. (Source: http://www.ssa.gov/oact/babynames/numberUSbirths.html)\n",
    "\n",
    "**lifetables:** Cohort life tables data (Source: http://www.ssa.gov/oact/NOTES/as120/LifeTables_Body.html)\n",
    "\n",
    "It also includes the following data set from the US Census:\n",
    "\n",
    "**births:** Number of live births by year, up to 2017. (Source: an Excel spreadsheet from the Census that has since been removed from their website and https://www.cdc.gov/nchs/data/nvsr/nvsr66/nvsr66_01.pdf)"
   ]
  },
  {
   "cell_type": "code",
   "execution_count": 4,
   "metadata": {},
   "outputs": [],
   "source": [
    "bn_filename = 'babynames.pickle'\n",
    "\n",
    "if os.path.isfile(bn_filename):\n",
    "    with open(bn_filename, 'rb') as f:\n",
    "        orig_df = pickle.load(f)\n",
    "else:\n",
    "    bn = importr('babynames')\n",
    "    orig_df = bn.__rdata__.fetch('babynames')['babynames']\n",
    "\n",
    "    with open(bn_filename, 'wb') as f:\n",
    "        pickle.dump(orig_df, f)"
   ]
  },
  {
   "cell_type": "code",
   "execution_count": 5,
   "metadata": {},
   "outputs": [
    {
     "data": {
      "text/html": [
       "<div>\n",
       "<style scoped>\n",
       "    .dataframe tbody tr th:only-of-type {\n",
       "        vertical-align: middle;\n",
       "    }\n",
       "\n",
       "    .dataframe tbody tr th {\n",
       "        vertical-align: top;\n",
       "    }\n",
       "\n",
       "    .dataframe thead th {\n",
       "        text-align: right;\n",
       "    }\n",
       "</style>\n",
       "<table border=\"1\" class=\"dataframe\">\n",
       "  <thead>\n",
       "    <tr style=\"text-align: right;\">\n",
       "      <th></th>\n",
       "      <th>year</th>\n",
       "      <th>sex</th>\n",
       "      <th>name</th>\n",
       "      <th>n</th>\n",
       "      <th>prop</th>\n",
       "    </tr>\n",
       "  </thead>\n",
       "  <tbody>\n",
       "    <tr>\n",
       "      <th>1</th>\n",
       "      <td>1880.0</td>\n",
       "      <td>F</td>\n",
       "      <td>Mary</td>\n",
       "      <td>7065</td>\n",
       "      <td>0.072384</td>\n",
       "    </tr>\n",
       "    <tr>\n",
       "      <th>2</th>\n",
       "      <td>1880.0</td>\n",
       "      <td>F</td>\n",
       "      <td>Anna</td>\n",
       "      <td>2604</td>\n",
       "      <td>0.026679</td>\n",
       "    </tr>\n",
       "    <tr>\n",
       "      <th>3</th>\n",
       "      <td>1880.0</td>\n",
       "      <td>F</td>\n",
       "      <td>Emma</td>\n",
       "      <td>2003</td>\n",
       "      <td>0.020521</td>\n",
       "    </tr>\n",
       "    <tr>\n",
       "      <th>4</th>\n",
       "      <td>1880.0</td>\n",
       "      <td>F</td>\n",
       "      <td>Elizabeth</td>\n",
       "      <td>1939</td>\n",
       "      <td>0.019866</td>\n",
       "    </tr>\n",
       "    <tr>\n",
       "      <th>5</th>\n",
       "      <td>1880.0</td>\n",
       "      <td>F</td>\n",
       "      <td>Minnie</td>\n",
       "      <td>1746</td>\n",
       "      <td>0.017888</td>\n",
       "    </tr>\n",
       "  </tbody>\n",
       "</table>\n",
       "</div>"
      ],
      "text/plain": [
       "     year sex       name     n      prop\n",
       "1  1880.0   F       Mary  7065  0.072384\n",
       "2  1880.0   F       Anna  2604  0.026679\n",
       "3  1880.0   F       Emma  2003  0.020521\n",
       "4  1880.0   F  Elizabeth  1939  0.019866\n",
       "5  1880.0   F     Minnie  1746  0.017888"
      ]
     },
     "execution_count": 5,
     "metadata": {},
     "output_type": "execute_result"
    }
   ],
   "source": [
    "orig_df.head()"
   ]
  },
  {
   "cell_type": "code",
   "execution_count": 6,
   "metadata": {},
   "outputs": [],
   "source": [
    "# only want to look at more recent trends\n",
    "df = orig_df[orig_df.year >= 1990].copy()"
   ]
  },
  {
   "cell_type": "code",
   "execution_count": 7,
   "metadata": {},
   "outputs": [
    {
     "name": "stdout",
     "output_type": "stream",
     "text": [
      "top femail names 2012 - 2017 by number of times in top 20 per year\n",
      "         name  n\n",
      "0     Abigail  6\n",
      "24     Sophia  6\n",
      "23      Sofia  6\n",
      "21     Olivia  6\n",
      "5         Ava  6\n",
      "6       Avery  6\n",
      "7   Charlotte  6\n",
      "19        Mia  6\n",
      "9   Elizabeth  6\n",
      "10       Ella  6\n",
      "11      Emily  6\n",
      "12       Emma  6\n",
      "18    Madison  6\n",
      "16   Isabella  6\n",
      "15     Harper  5\n",
      "13     Evelyn  5\n",
      "8       Chloe  5\n",
      "2      Amelia  5\n",
      "14      Grace  3\n",
      "25   Victoria  3\n",
      "1     Addison  2\n",
      "4      Aubrey  2\n",
      "22   Scarlett  2\n",
      "17       Lily  1\n",
      "20    Natalie  1\n",
      "3        Aria  1\n",
      "26       Zoey  1\n"
     ]
    }
   ],
   "source": [
    "tops = df[(df.sex == 'F') & ((df.year >= 2012) & (df.year <= 2017))].sort_values(['year', 'n'], ascending=False).groupby('year', as_index=False).head(20)\n",
    "print('top femail names 2012 - 2017 by number of times in top 20 per year')\n",
    "print(tops.groupby('name', as_index=False)['n'].count().sort_values('n', ascending=False))"
   ]
  },
  {
   "cell_type": "code",
   "execution_count": 8,
   "metadata": {},
   "outputs": [
    {
     "data": {
      "image/png": "[encoded data removed]",
      "text/plain": [
       "<Figure size 540x360 with 1 Axes>"
      ]
     },
     "metadata": {},
     "output_type": "display_data"
    }
   ],
   "source": [
    "a = df[df.name.isin(['Abigail', 'Sophia', 'Sofia', 'Olivia', 'Avery'])]\n",
    "a_plt = sns.relplot(x='year', y='n', hue='name', style='sex', kind='line', ci=None, data=a)\n",
    "a_plt.fig.set_size_inches(7.5, 5)"
   ]
  },
  {
   "cell_type": "markdown",
   "metadata": {},
   "source": [
    "Suppose your selected name is Sophia and soundalikes"
   ]
  },
  {
   "cell_type": "markdown",
   "metadata": {},
   "source": [
    "<a id='prophet'></a>"
   ]
  },
  {
   "cell_type": "markdown",
   "metadata": {},
   "source": [
    "### Prophet for prediction of naming trends\n",
    "\n",
    "Prophet is an R/Python library available from: https://facebook.github.io/prophet/\n",
    "\n",
    "The input to Prophet is always a dataframe with two columns: **ds** and **y**. The ds (datestamp) column should be of a format expected by Pandas, ideally YYYY-MM-DD for a date or YYYY-MM-DD HH:MM:SS for a timestamp. The y column must be numeric, and represents the measurement we wish to forecast."
   ]
  },
  {
   "cell_type": "code",
   "execution_count": 9,
   "metadata": {},
   "outputs": [],
   "source": [
    "# select counts without respect to gender\n",
    "a = df[df.name.isin(['Sophia', 'Sofia'])]\n",
    "pdf = a.groupby(['year'])['n'].sum().reset_index()\n",
    "pdf.rename(columns={\"year\": \"ds\", \"n\": \"y\"}, inplace=True)\n",
    "pdf['ds'] = pd.to_datetime(pdf['ds'], format='%Y')"
   ]
  },
  {
   "cell_type": "code",
   "execution_count": 10,
   "metadata": {},
   "outputs": [
    {
     "name": "stderr",
     "output_type": "stream",
     "text": [
      "/Users/seth/anaconda3/lib/python3.7/site-packages/fbprophet/forecaster.py:880: FutureWarning: Series.nonzero() is deprecated and will be removed in a future version.Use Series.to_numpy().nonzero() instead\n",
      "  min_dt = dt.iloc[dt.nonzero()[0]].min()\n",
      "INFO:fbprophet:n_changepoints greater than number of observations.Using 21.0.\n",
      "/Users/seth/anaconda3/lib/python3.7/site-packages/pystan/misc.py:399: FutureWarning: Conversion of the second argument of issubdtype from `float` to `np.floating` is deprecated. In future, it will be treated as `np.float64 == np.dtype(float).type`.\n",
      "  elif np.issubdtype(np.asarray(v).dtype, float):\n"
     ]
    },
    {
     "data": {
      "text/plain": [
       "[<matplotlib.lines.Line2D at 0x1a2533fa58>]"
      ]
     },
     "execution_count": 10,
     "metadata": {},
     "output_type": "execute_result"
    },
    {
     "data": {
      "image/png": "[encoded data removed]",
      "text/plain": [
       "<Figure size 720x432 with 1 Axes>"
      ]
     },
     "metadata": {},
     "output_type": "display_data"
    }
   ],
   "source": [
    "m = Prophet(daily_seasonality=False, weekly_seasonality=False, seasonality_mode='multiplicative')\n",
    "m.fit(pdf)\n",
    "# predict 10 years out\n",
    "future = m.make_future_dataframe(periods=10, freq='Y')\n",
    "forecast = m.predict(future)\n",
    "fig = m.plot(forecast)\n",
    "a = add_changepoints_to_plot(fig.gca(), m, forecast)\n",
    "\n",
    "# show actual data in green\n",
    "plt.plot(pdf.ds, pdf.y, 'g')"
   ]
  },
  {
   "cell_type": "code",
   "execution_count": 11,
   "metadata": {},
   "outputs": [
    {
     "data": {
      "image/png": "[encoded data removed]",
      "text/plain": [
       "<Figure size 648x432 with 2 Axes>"
      ]
     },
     "metadata": {},
     "output_type": "display_data"
    }
   ],
   "source": [
    "fig = m.plot_components(forecast)"
   ]
  },
  {
   "cell_type": "code",
   "execution_count": 12,
   "metadata": {},
   "outputs": [
    {
     "data": {
      "text/html": [
       "<div>\n",
       "<style scoped>\n",
       "    .dataframe tbody tr th:only-of-type {\n",
       "        vertical-align: middle;\n",
       "    }\n",
       "\n",
       "    .dataframe tbody tr th {\n",
       "        vertical-align: top;\n",
       "    }\n",
       "\n",
       "    .dataframe thead th {\n",
       "        text-align: right;\n",
       "    }\n",
       "</style>\n",
       "<table border=\"1\" class=\"dataframe\">\n",
       "  <thead>\n",
       "    <tr style=\"text-align: right;\">\n",
       "      <th></th>\n",
       "      <th>year</th>\n",
       "      <th>sex</th>\n",
       "      <th>name</th>\n",
       "      <th>n</th>\n",
       "      <th>prop</th>\n",
       "    </tr>\n",
       "  </thead>\n",
       "  <tbody>\n",
       "    <tr>\n",
       "      <th>1069606</th>\n",
       "      <td>1990.0</td>\n",
       "      <td>F</td>\n",
       "      <td>Jessica</td>\n",
       "      <td>46475</td>\n",
       "      <td>0.022627</td>\n",
       "    </tr>\n",
       "    <tr>\n",
       "      <th>1069607</th>\n",
       "      <td>1990.0</td>\n",
       "      <td>F</td>\n",
       "      <td>Ashley</td>\n",
       "      <td>45558</td>\n",
       "      <td>0.022181</td>\n",
       "    </tr>\n",
       "    <tr>\n",
       "      <th>1069608</th>\n",
       "      <td>1990.0</td>\n",
       "      <td>F</td>\n",
       "      <td>Brittany</td>\n",
       "      <td>36538</td>\n",
       "      <td>0.017789</td>\n",
       "    </tr>\n",
       "    <tr>\n",
       "      <th>1069609</th>\n",
       "      <td>1990.0</td>\n",
       "      <td>F</td>\n",
       "      <td>Amanda</td>\n",
       "      <td>34408</td>\n",
       "      <td>0.016752</td>\n",
       "    </tr>\n",
       "    <tr>\n",
       "      <th>1069610</th>\n",
       "      <td>1990.0</td>\n",
       "      <td>F</td>\n",
       "      <td>Samantha</td>\n",
       "      <td>25866</td>\n",
       "      <td>0.012593</td>\n",
       "    </tr>\n",
       "  </tbody>\n",
       "</table>\n",
       "</div>"
      ],
      "text/plain": [
       "           year sex      name      n      prop\n",
       "1069606  1990.0   F   Jessica  46475  0.022627\n",
       "1069607  1990.0   F    Ashley  45558  0.022181\n",
       "1069608  1990.0   F  Brittany  36538  0.017789\n",
       "1069609  1990.0   F    Amanda  34408  0.016752\n",
       "1069610  1990.0   F  Samantha  25866  0.012593"
      ]
     },
     "execution_count": 12,
     "metadata": {},
     "output_type": "execute_result"
    }
   ],
   "source": [
    "df.head()"
   ]
  },
  {
   "cell_type": "code",
   "execution_count": 13,
   "metadata": {},
   "outputs": [
    {
     "data": {
      "text/plain": [
       "(855060, 5)"
      ]
     },
     "execution_count": 13,
     "metadata": {},
     "output_type": "execute_result"
    }
   ],
   "source": [
    "df.shape"
   ]
  },
  {
   "cell_type": "markdown",
   "metadata": {},
   "source": [
    "<a id='arima'></a>"
   ]
  },
  {
   "cell_type": "markdown",
   "metadata": {},
   "source": [
    "### ARIMA for prediction of naming trends"
   ]
  },
  {
   "cell_type": "code",
   "execution_count": 202,
   "metadata": {},
   "outputs": [],
   "source": [
    "# to do - add this section"
   ]
  },
  {
   "cell_type": "markdown",
   "metadata": {},
   "source": [
    "<a id='sound_analysis'></a>"
   ]
  },
  {
   "cell_type": "markdown",
   "metadata": {},
   "source": [
    "### Combine names based on how they sound\n",
    "\n",
    "As each entry in the babynames dataset is based on spelling, evaluate different sound based algorithms to see how to combine/reduce number of names.\n",
    "\n",
    "See the [soundconflation](soundconflation.ipynb) notebook for analysis of various phonetic algorithms.\n",
    "\n",
    "End result is that the Abydos python library has lots of options and I like the Beider & Morse algorithm the best for the purposes of this analysis.\n",
    "\n",
    "For combination of names based on Beider Morse algorithm, will just look at most recent year."
   ]
  },
  {
   "cell_type": "markdown",
   "metadata": {},
   "source": [
    "#### Export names file for testing/evaluation of phonetic algorithms"
   ]
  },
  {
   "cell_type": "code",
   "execution_count": 14,
   "metadata": {},
   "outputs": [
    {
     "name": "stdout",
     "output_type": "stream",
     "text": [
      "(77092, 1)\n"
     ]
    }
   ],
   "source": [
    "names = pd.DataFrame()\n",
    "#apdf = df[['year', 'sex', 'name', 'n', 'prop']][df.year == 1990].head(100).copy()\n",
    "names['name'] = df.name.unique()\n",
    "print(names.shape)\n",
    "\n",
    "with open('ssn_names_only.pickle', 'wb') as f:\n",
    "    pickle.dump(names, f)"
   ]
  },
  {
   "cell_type": "markdown",
   "metadata": {},
   "source": [
    "Build the data frame of names and beidermorse values"
   ]
  },
  {
   "cell_type": "code",
   "execution_count": 15,
   "metadata": {},
   "outputs": [
    {
     "data": {
      "text/html": [
       "<div>\n",
       "<style scoped>\n",
       "    .dataframe tbody tr th:only-of-type {\n",
       "        vertical-align: middle;\n",
       "    }\n",
       "\n",
       "    .dataframe tbody tr th {\n",
       "        vertical-align: top;\n",
       "    }\n",
       "\n",
       "    .dataframe thead th {\n",
       "        text-align: right;\n",
       "    }\n",
       "</style>\n",
       "<table border=\"1\" class=\"dataframe\">\n",
       "  <thead>\n",
       "    <tr style=\"text-align: right;\">\n",
       "      <th></th>\n",
       "      <th>name</th>\n",
       "      <th>beidermorse</th>\n",
       "      <th>bmset</th>\n",
       "    </tr>\n",
       "  </thead>\n",
       "  <tbody>\n",
       "    <tr>\n",
       "      <th>0</th>\n",
       "      <td>Jessica</td>\n",
       "      <td>zYsQki zYsiki zYsDki zisQki zisiki zisDki zYsi...</td>\n",
       "      <td>{zisiki, zYsDki, zisQka, zYsQko, zYsiki, zYsik...</td>\n",
       "    </tr>\n",
       "    <tr>\n",
       "      <th>1</th>\n",
       "      <td>Ashley</td>\n",
       "      <td>izlii izlD izla izli ozlii ozlD ozla ozli azli...</td>\n",
       "      <td>{izli, azlii, izla, ozla, azlD, azla, izlD, oz...</td>\n",
       "    </tr>\n",
       "    <tr>\n",
       "      <th>2</th>\n",
       "      <td>Brittany</td>\n",
       "      <td>brQtini britini brDtini britoni brQtoni britan...</td>\n",
       "      <td>{brQtoni, brDtini, britini, britani, britoni, ...</td>\n",
       "    </tr>\n",
       "    <tr>\n",
       "      <th>3</th>\n",
       "      <td>Amanda</td>\n",
       "      <td>imindi imndi imindo imndo iminda imnda imondi ...</td>\n",
       "      <td>{omanda, amandi, amondi, imondo, amnda, amonda...</td>\n",
       "    </tr>\n",
       "    <tr>\n",
       "      <th>4</th>\n",
       "      <td>Samantha</td>\n",
       "      <td>siminti simnti siminto simnto siminta simnta s...</td>\n",
       "      <td>{samonta, samanta, siminto, samonti, samanto, ...</td>\n",
       "    </tr>\n",
       "  </tbody>\n",
       "</table>\n",
       "</div>"
      ],
      "text/plain": [
       "       name                                        beidermorse  \\\n",
       "0   Jessica  zYsQki zYsiki zYsDki zisQki zisiki zisDki zYsi...   \n",
       "1    Ashley  izlii izlD izla izli ozlii ozlD ozla ozli azli...   \n",
       "2  Brittany  brQtini britini brDtini britoni brQtoni britan...   \n",
       "3    Amanda  imindi imndi imindo imndo iminda imnda imondi ...   \n",
       "4  Samantha  siminti simnti siminto simnto siminta simnta s...   \n",
       "\n",
       "                                               bmset  \n",
       "0  {zisiki, zYsDki, zisQka, zYsQko, zYsiki, zYsik...  \n",
       "1  {izli, azlii, izla, ozla, azlD, azla, izlD, oz...  \n",
       "2  {brQtoni, brDtini, britini, britani, britoni, ...  \n",
       "3  {omanda, amandi, amondi, imondo, amnda, amonda...  \n",
       "4  {samonta, samanta, siminto, samonti, samanto, ...  "
      ]
     },
     "execution_count": 15,
     "metadata": {},
     "output_type": "execute_result"
    }
   ],
   "source": [
    "from abydos import phonetic as ap\n",
    "import multiprocessing\n",
    "from multiprocessing import Pool\n",
    "import psutil\n",
    "from functools import partial\n",
    "\n",
    "def process_df(function, label, df_in):\n",
    "    # this is is beidermorse specific; remove this function partial and you can actually parallelize\n",
    "    # any method that doesn't require additional parameters\n",
    "    func = partial(function, language_arg = 'english')\n",
    "    df_in[label] = df_in.name.map(func)\n",
    "    return df_in\n",
    "\n",
    "def parallelize(inputdf, function, label):\n",
    "    num_processes = psutil.cpu_count(logical=False)\n",
    "    num_partitions = num_processes * 2 #smaller batches to get more frequent status updates (if function provides them)\n",
    "    func = partial(process_df, function, label)\n",
    "    with Pool(processes=num_processes) as pool:\n",
    "        df_split = np.array_split(inputdf, num_partitions)\n",
    "        df_out = pd.concat(pool.map(func, df_split))\n",
    "    return df_out\n",
    "\n",
    "filename = 'names_beidermorse.pickle'\n",
    "\n",
    "if os.path.isfile(filename):\n",
    "    with open(filename, 'rb') as f:\n",
    "        names = pickle.load(f)\n",
    "else:\n",
    "    names = parallelize(names, ap.BeiderMorse().encode, 'beidermorse')\n",
    "    # convert string of names space separated to a set for much faster lookup\n",
    "    names['bmset'] = names['beidermorse'].str.split().apply(set)\n",
    "\n",
    "    with open(filename, 'wb') as f:\n",
    "        pickle.dump(names, f)\n",
    "\n",
    "names.head()"
   ]
  },
  {
   "cell_type": "code",
   "execution_count": 16,
   "metadata": {},
   "outputs": [
    {
     "data": {
      "text/html": [
       "<div>\n",
       "<style scoped>\n",
       "    .dataframe tbody tr th:only-of-type {\n",
       "        vertical-align: middle;\n",
       "    }\n",
       "\n",
       "    .dataframe tbody tr th {\n",
       "        vertical-align: top;\n",
       "    }\n",
       "\n",
       "    .dataframe thead th {\n",
       "        text-align: right;\n",
       "    }\n",
       "</style>\n",
       "<table border=\"1\" class=\"dataframe\">\n",
       "  <thead>\n",
       "    <tr style=\"text-align: right;\">\n",
       "      <th></th>\n",
       "      <th>name</th>\n",
       "      <th>beidermorse</th>\n",
       "      <th>bmset</th>\n",
       "    </tr>\n",
       "  </thead>\n",
       "  <tbody>\n",
       "    <tr>\n",
       "      <th>250</th>\n",
       "      <td>Sophia</td>\n",
       "      <td>sofii sofio sofia safii safio safia</td>\n",
       "      <td>{safio, safii, sofia, safia, sofio, sofii}</td>\n",
       "    </tr>\n",
       "    <tr>\n",
       "      <th>646</th>\n",
       "      <td>Sofia</td>\n",
       "      <td>sofii sofio sofia safii safio safia</td>\n",
       "      <td>{safio, safii, sofia, safia, sofio, sofii}</td>\n",
       "    </tr>\n",
       "    <tr>\n",
       "      <th>9955</th>\n",
       "      <td>Safia</td>\n",
       "      <td>sifii sifio sifia sofii sofio sofia safii safi...</td>\n",
       "      <td>{safio, safii, sofia, safia, sifio, sofio, sof...</td>\n",
       "    </tr>\n",
       "    <tr>\n",
       "      <th>12562</th>\n",
       "      <td>Safaa</td>\n",
       "      <td>sifii sifio sifD sifia sifoi sifoo sifoa sifai...</td>\n",
       "      <td>{safa, sifo, sofoi, safo, sifoo, sifai, sofai,...</td>\n",
       "    </tr>\n",
       "    <tr>\n",
       "      <th>29240</th>\n",
       "      <td>Safiah</td>\n",
       "      <td>sifii sifio sifia sofii sofio sofia safii safi...</td>\n",
       "      <td>{safio, safii, sofia, safia, sifio, sofio, sof...</td>\n",
       "    </tr>\n",
       "  </tbody>\n",
       "</table>\n",
       "</div>"
      ],
      "text/plain": [
       "         name                                        beidermorse  \\\n",
       "250    Sophia                sofii sofio sofia safii safio safia   \n",
       "646     Sofia                sofii sofio sofia safii safio safia   \n",
       "9955    Safia  sifii sifio sifia sofii sofio sofia safii safi...   \n",
       "12562   Safaa  sifii sifio sifD sifia sifoi sifoo sifoa sifai...   \n",
       "29240  Safiah  sifii sifio sifia sofii sofio sofia safii safi...   \n",
       "\n",
       "                                                   bmset  \n",
       "250           {safio, safii, sofia, safia, sofio, sofii}  \n",
       "646           {safio, safii, sofia, safia, sofio, sofii}  \n",
       "9955   {safio, safii, sofia, safia, sifio, sofio, sof...  \n",
       "12562  {safa, sifo, sofoi, safo, sifoo, sifai, sofai,...  \n",
       "29240  {safio, safii, sofia, safia, sifio, sofio, sof...  "
      ]
     },
     "execution_count": 16,
     "metadata": {},
     "output_type": "execute_result"
    }
   ],
   "source": [
    "checklist = names[names.name == 'Sofia'].beidermorse.values[0].split()\n",
    "def check_fn(input):\n",
    "    return any(x in input.split() for x in checklist)\n",
    "\n",
    "names[names.beidermorse.map(check_fn)].head()"
   ]
  },
  {
   "cell_type": "markdown",
   "metadata": {},
   "source": [
    "Create key-value version of Beider Morse mapping - found this improves performance"
   ]
  },
  {
   "cell_type": "code",
   "execution_count": 17,
   "metadata": {},
   "outputs": [],
   "source": [
    "def f(name, bmset):\n",
    "    return pd.DataFrame(zip([name] * len(bmset), list(bmset)), columns=('name', 'beidermorse'))\n",
    "kv_names = pd.concat([f(n,b) for n, b in zip(names['name'], names['bmset'])])"
   ]
  },
  {
   "cell_type": "code",
   "execution_count": 18,
   "metadata": {},
   "outputs": [],
   "source": [
    "def calc_sound_totals(df_in):\n",
    "    df_out = df_in.copy()\n",
    "    df_out['counted'] = False\n",
    "    df_out['alt_n'] = 0\n",
    "    df_out['alt_prop'] = 0.0\n",
    "    df_out['mapped_to'] = ''\n",
    "    \n",
    "    filt_names = kv_names.merge(df_out, on='name')[['name', 'beidermorse']]\n",
    "\n",
    "    # process each row of dataframe\n",
    "    def create_df_out_n(row):\n",
    "        # should do no further processing if this row has already been counted\n",
    "        if (df_out.loc[(df_out.name == row['name']) &\n",
    "                (df_out.year == row.year) &\n",
    "                (df_out.sex == row.sex) ,\n",
    "                'counted'].all() == True):\n",
    "            return\n",
    "\n",
    "        # find matching names        \n",
    "        checklist = filt_names[filt_names.name == row['name']].beidermorse.values\n",
    "        found = filt_names[filt_names.beidermorse.isin(checklist)]['name'].unique()\n",
    "        \n",
    "        # aggregate count, excluding counted names, for all found names into df_out_name\n",
    "        df_out.loc[(df_out.name == row['name']) &\n",
    "                (df_out.year == row.year) &\n",
    "                (df_out.sex == row.sex) ,\n",
    "                'alt_n'] = df_out[(df_out.name.isin(found)) & \n",
    "                               (df_out.year == row.year) &\n",
    "                               (df_out.sex == row.sex) &\n",
    "                               (df_out.counted == False)]['n'].sum()\n",
    "        \n",
    "        # set counted flag for found names in group\n",
    "        # ? how to update just group ?\n",
    "        df_out.loc[(df_out.name.isin(found)) & (df_out.year == row.year) & (df_out.sex == row.sex), 'counted'] = True\n",
    "        df_out.loc[(df_out.name.isin(found)) & (df_out.year == row.year) & (df_out.sex == row.sex), 'mapped_to'] = row['name']\n",
    "\n",
    "    start = timer()\n",
    "    gdf = df_out.groupby(['year', 'sex'])\n",
    "    for name, group in gdf:\n",
    "        print('processing name:', name)\n",
    "        g = group.sort_values('n', ascending=False).copy()\n",
    "        g.apply(create_df_out_n, axis=1)\n",
    "\n",
    "    end = timer()\n",
    "    print('create out_n', end - start, 'seconds')\n",
    "    \n",
    "    # create df_out_prop\n",
    "    def create_df_out_prop(row):\n",
    "        df_out.loc[(df_out.name == row['name']) &\n",
    "                (df_out.year == row.year) &\n",
    "                (df_out.sex == row.sex) ,\n",
    "                'alt_prop'] = row['alt_n'] / gsum\n",
    "\n",
    "    start = timer()\n",
    "    for name, group in gdf:\n",
    "        gsum = group['alt_n'].sum()\n",
    "        group.apply(create_df_out_prop, axis=1)\n",
    "    end = timer()\n",
    "    print('create out_prop', end - start, 'seconds')\n",
    "\n",
    "    return df_out"
   ]
  },
  {
   "cell_type": "markdown",
   "metadata": {},
   "source": [
    "This process takes about 20 minutes... While this is improved, need to improve more; seems parallelization is the next step"
   ]
  },
  {
   "cell_type": "code",
   "execution_count": 19,
   "metadata": {},
   "outputs": [
    {
     "name": "stdout",
     "output_type": "stream",
     "text": [
      "processing name: (2017.0, 'F')\n",
      "processing name: (2017.0, 'M')\n",
      "create out_n 809.045914995 seconds\n",
      "create out_prop 168.93379352600004 seconds\n"
     ]
    }
   ],
   "source": [
    "alt = df[df.year == 2017].copy()\n",
    "alt['counted'] = False\n",
    "alt['alt_n'] = 0\n",
    "alt['alt_prop'] = 0.0\n",
    "alt.head()\n",
    "out = calc_sound_totals(alt)"
   ]
  },
  {
   "cell_type": "code",
   "execution_count": 20,
   "metadata": {},
   "outputs": [
    {
     "data": {
      "text/html": [
       "<div>\n",
       "<style scoped>\n",
       "    .dataframe tbody tr th:only-of-type {\n",
       "        vertical-align: middle;\n",
       "    }\n",
       "\n",
       "    .dataframe tbody tr th {\n",
       "        vertical-align: top;\n",
       "    }\n",
       "\n",
       "    .dataframe thead th {\n",
       "        text-align: right;\n",
       "    }\n",
       "</style>\n",
       "<table border=\"1\" class=\"dataframe\">\n",
       "  <thead>\n",
       "    <tr style=\"text-align: right;\">\n",
       "      <th></th>\n",
       "      <th>year</th>\n",
       "      <th>sex</th>\n",
       "      <th>name</th>\n",
       "      <th>n</th>\n",
       "      <th>prop</th>\n",
       "      <th>counted</th>\n",
       "      <th>alt_n</th>\n",
       "      <th>alt_prop</th>\n",
       "      <th>mapped_to</th>\n",
       "    </tr>\n",
       "  </thead>\n",
       "  <tbody>\n",
       "    <tr>\n",
       "      <th>1906221</th>\n",
       "      <td>2017.0</td>\n",
       "      <td>F</td>\n",
       "      <td>Aabriella</td>\n",
       "      <td>6</td>\n",
       "      <td>0.000003</td>\n",
       "      <td>True</td>\n",
       "      <td>0</td>\n",
       "      <td>0.000000</td>\n",
       "      <td>Aubrielle</td>\n",
       "    </tr>\n",
       "    <tr>\n",
       "      <th>1897210</th>\n",
       "      <td>2017.0</td>\n",
       "      <td>F</td>\n",
       "      <td>Aadhira</td>\n",
       "      <td>26</td>\n",
       "      <td>0.000014</td>\n",
       "      <td>True</td>\n",
       "      <td>0</td>\n",
       "      <td>0.000000</td>\n",
       "      <td>Yadira</td>\n",
       "    </tr>\n",
       "    <tr>\n",
       "      <th>1893108</th>\n",
       "      <td>2017.0</td>\n",
       "      <td>F</td>\n",
       "      <td>Aadhya</td>\n",
       "      <td>290</td>\n",
       "      <td>0.000155</td>\n",
       "      <td>True</td>\n",
       "      <td>590</td>\n",
       "      <td>0.000345</td>\n",
       "      <td>Aadhya</td>\n",
       "    </tr>\n",
       "    <tr>\n",
       "      <th>1907990</th>\n",
       "      <td>2017.0</td>\n",
       "      <td>F</td>\n",
       "      <td>Aadilynn</td>\n",
       "      <td>5</td>\n",
       "      <td>0.000003</td>\n",
       "      <td>True</td>\n",
       "      <td>0</td>\n",
       "      <td>0.000000</td>\n",
       "      <td>Adelyn</td>\n",
       "    </tr>\n",
       "    <tr>\n",
       "      <th>1906222</th>\n",
       "      <td>2017.0</td>\n",
       "      <td>F</td>\n",
       "      <td>Aaditri</td>\n",
       "      <td>6</td>\n",
       "      <td>0.000003</td>\n",
       "      <td>True</td>\n",
       "      <td>0</td>\n",
       "      <td>0.000000</td>\n",
       "      <td>Aditri</td>\n",
       "    </tr>\n",
       "  </tbody>\n",
       "</table>\n",
       "</div>"
      ],
      "text/plain": [
       "           year sex       name    n      prop  counted  alt_n  alt_prop  \\\n",
       "1906221  2017.0   F  Aabriella    6  0.000003     True      0  0.000000   \n",
       "1897210  2017.0   F    Aadhira   26  0.000014     True      0  0.000000   \n",
       "1893108  2017.0   F     Aadhya  290  0.000155     True    590  0.000345   \n",
       "1907990  2017.0   F   Aadilynn    5  0.000003     True      0  0.000000   \n",
       "1906222  2017.0   F    Aaditri    6  0.000003     True      0  0.000000   \n",
       "\n",
       "         mapped_to  \n",
       "1906221  Aubrielle  \n",
       "1897210     Yadira  \n",
       "1893108     Aadhya  \n",
       "1907990     Adelyn  \n",
       "1906222     Aditri  "
      ]
     },
     "execution_count": 20,
     "metadata": {},
     "output_type": "execute_result"
    }
   ],
   "source": [
    "out.sort_values(['year', 'sex', 'name']).head()"
   ]
  },
  {
   "cell_type": "code",
   "execution_count": 21,
   "metadata": {},
   "outputs": [
    {
     "data": {
      "text/html": [
       "<div>\n",
       "<style scoped>\n",
       "    .dataframe tbody tr th:only-of-type {\n",
       "        vertical-align: middle;\n",
       "    }\n",
       "\n",
       "    .dataframe tbody tr th {\n",
       "        vertical-align: top;\n",
       "    }\n",
       "\n",
       "    .dataframe thead th {\n",
       "        text-align: right;\n",
       "    }\n",
       "</style>\n",
       "<table border=\"1\" class=\"dataframe\">\n",
       "  <thead>\n",
       "    <tr style=\"text-align: right;\">\n",
       "      <th></th>\n",
       "      <th>year</th>\n",
       "      <th>sex</th>\n",
       "      <th>name</th>\n",
       "      <th>n</th>\n",
       "      <th>prop</th>\n",
       "      <th>counted</th>\n",
       "      <th>alt_n</th>\n",
       "      <th>alt_prop</th>\n",
       "      <th>mapped_to</th>\n",
       "    </tr>\n",
       "  </thead>\n",
       "  <tbody>\n",
       "    <tr>\n",
       "      <th>1892198</th>\n",
       "      <td>2017.0</td>\n",
       "      <td>F</td>\n",
       "      <td>Olivia</td>\n",
       "      <td>18632</td>\n",
       "      <td>0.009938</td>\n",
       "      <td>True</td>\n",
       "      <td>20437</td>\n",
       "      <td>0.011939</td>\n",
       "      <td>Olivia</td>\n",
       "    </tr>\n",
       "    <tr>\n",
       "      <th>1892201</th>\n",
       "      <td>2017.0</td>\n",
       "      <td>F</td>\n",
       "      <td>Sophia</td>\n",
       "      <td>14831</td>\n",
       "      <td>0.007910</td>\n",
       "      <td>True</td>\n",
       "      <td>23117</td>\n",
       "      <td>0.013504</td>\n",
       "      <td>Sophia</td>\n",
       "    </tr>\n",
       "    <tr>\n",
       "      <th>1892206</th>\n",
       "      <td>2017.0</td>\n",
       "      <td>F</td>\n",
       "      <td>Abigail</td>\n",
       "      <td>10551</td>\n",
       "      <td>0.005627</td>\n",
       "      <td>True</td>\n",
       "      <td>11274</td>\n",
       "      <td>0.006586</td>\n",
       "      <td>Abigail</td>\n",
       "    </tr>\n",
       "    <tr>\n",
       "      <th>1892210</th>\n",
       "      <td>2017.0</td>\n",
       "      <td>F</td>\n",
       "      <td>Avery</td>\n",
       "      <td>8186</td>\n",
       "      <td>0.004366</td>\n",
       "      <td>True</td>\n",
       "      <td>9417</td>\n",
       "      <td>0.005501</td>\n",
       "      <td>Avery</td>\n",
       "    </tr>\n",
       "    <tr>\n",
       "      <th>1892211</th>\n",
       "      <td>2017.0</td>\n",
       "      <td>F</td>\n",
       "      <td>Sofia</td>\n",
       "      <td>8134</td>\n",
       "      <td>0.004338</td>\n",
       "      <td>True</td>\n",
       "      <td>0</td>\n",
       "      <td>0.000000</td>\n",
       "      <td>Sophia</td>\n",
       "    </tr>\n",
       "  </tbody>\n",
       "</table>\n",
       "</div>"
      ],
      "text/plain": [
       "           year sex     name      n      prop  counted  alt_n  alt_prop  \\\n",
       "1892198  2017.0   F   Olivia  18632  0.009938     True  20437  0.011939   \n",
       "1892201  2017.0   F   Sophia  14831  0.007910     True  23117  0.013504   \n",
       "1892206  2017.0   F  Abigail  10551  0.005627     True  11274  0.006586   \n",
       "1892210  2017.0   F    Avery   8186  0.004366     True   9417  0.005501   \n",
       "1892211  2017.0   F    Sofia   8134  0.004338     True      0  0.000000   \n",
       "\n",
       "        mapped_to  \n",
       "1892198    Olivia  \n",
       "1892201    Sophia  \n",
       "1892206   Abigail  \n",
       "1892210     Avery  \n",
       "1892211    Sophia  "
      ]
     },
     "execution_count": 21,
     "metadata": {},
     "output_type": "execute_result"
    }
   ],
   "source": [
    "out[out.name.isin(['Abigail', 'Sophia', 'Sofia', 'Olivia', 'Avery'])].head()"
   ]
  },
  {
   "cell_type": "code",
   "execution_count": 22,
   "metadata": {},
   "outputs": [
    {
     "data": {
      "text/plain": [
       "10681"
      ]
     },
     "execution_count": 22,
     "metadata": {},
     "output_type": "execute_result"
    }
   ],
   "source": [
    "len(out.mapped_to.unique())"
   ]
  },
  {
   "cell_type": "markdown",
   "metadata": {},
   "source": [
    "<a id='popularity'></a>"
   ]
  },
  {
   "cell_type": "markdown",
   "metadata": {},
   "source": [
    "### Name popularity\n",
    "\n",
    "Primary/Secondary school is the location most children will interact with a large number of their birth cohort. While many schools use on or around September 1 for the kindergarten cutoff age, it can actually vary quite a bit - see http://ecs.force.com/mbdata/MBQuest2RTanw?rep=KK3Q1802\n",
    "\n",
    "In highschool, college, and adulthood interactions are with a broader range of ages than in early school years, so a larger time period might be more appropriate for that type of analysis.\n",
    "\n",
    "To Do:\n",
    "* Should consider regional distributions of names, but where to get that data?\n",
    "* Should consider ethnic popularity by region, but where to get that data?\n",
    "\n",
    "National school class size: 21\n",
    "\n",
    "Source: https://nces.ed.gov/fastfacts/display.asp?id=28, though only has public schools from 2011-2012, so is outdated\n",
    "\n",
    "National Average Public School size: 503\n",
    "\n",
    "Source: https://www.publicschoolreview.com/average-school-size-stats/national-data\n",
    "\n",
    "Suppose we want to see how many other kids would have names like 'Sophia':"
   ]
  },
  {
   "cell_type": "code",
   "execution_count": 23,
   "metadata": {},
   "outputs": [
    {
     "name": "stdout",
     "output_type": "stream",
     "text": [
      "Probability of child with same name in a given class:  0.03236602020314888\n",
      "Probability of child with same name in a given school:  0.9916020167695265\n"
     ]
    }
   ],
   "source": [
    "from scipy.stats import binom\n",
    "\n",
    "# p = probability/proportion of name\n",
    "# n = size of group to consider\n",
    "def calc_dup_prob(p, n):\n",
    "    k = 2\n",
    "    ans = 0.0\n",
    "    for x in range(k, n + 1):\n",
    "        ans += binom.pmf(x, n, p)\n",
    "        # alternatively see https://en.wikipedia.org/wiki/Binomial_distribution#Cumulative_distribution_function\n",
    "        # comb(n, x) * p**x * (1 - p)**(n-x))\n",
    "    return ans\n",
    "\n",
    "school_size = 503\n",
    "class_size = 21\n",
    "\n",
    "print(\"Probability of child with same name in a given class: \", calc_dup_prob(out[out.name == 'Sophia'].alt_prop.sum(), class_size))\n",
    "print(\"Probability of child with same name in a given school: \", calc_dup_prob(out[out.name == 'Sophia'].alt_prop.sum(), school_size))"
   ]
  },
  {
   "cell_type": "markdown",
   "metadata": {},
   "source": [
    "<a id='gender'></a>"
   ]
  },
  {
   "cell_type": "markdown",
   "metadata": {},
   "source": [
    "### Check if name is mostly one gender or is there some amount of overlap\n",
    "\n",
    "Gender overlap levels were selected to approximately balance the high and medium overlap groups"
   ]
  },
  {
   "cell_type": "code",
   "execution_count": 24,
   "metadata": {},
   "outputs": [
    {
     "data": {
      "text/html": [
       "<div>\n",
       "<style scoped>\n",
       "    .dataframe tbody tr th:only-of-type {\n",
       "        vertical-align: middle;\n",
       "    }\n",
       "\n",
       "    .dataframe tbody tr th {\n",
       "        vertical-align: top;\n",
       "    }\n",
       "\n",
       "    .dataframe thead th {\n",
       "        text-align: right;\n",
       "    }\n",
       "</style>\n",
       "<table border=\"1\" class=\"dataframe\">\n",
       "  <thead>\n",
       "    <tr style=\"text-align: right;\">\n",
       "      <th></th>\n",
       "      <th>year</th>\n",
       "      <th>sex</th>\n",
       "      <th>name</th>\n",
       "      <th>n</th>\n",
       "      <th>prop</th>\n",
       "      <th>counted</th>\n",
       "      <th>alt_n</th>\n",
       "      <th>alt_prop</th>\n",
       "      <th>mapped_to</th>\n",
       "    </tr>\n",
       "  </thead>\n",
       "  <tbody>\n",
       "    <tr>\n",
       "      <th>1892201</th>\n",
       "      <td>2017.0</td>\n",
       "      <td>F</td>\n",
       "      <td>Sophia</td>\n",
       "      <td>14831</td>\n",
       "      <td>0.007910</td>\n",
       "      <td>True</td>\n",
       "      <td>23117</td>\n",
       "      <td>0.013504</td>\n",
       "      <td>Sophia</td>\n",
       "    </tr>\n",
       "    <tr>\n",
       "      <th>1915957</th>\n",
       "      <td>2017.0</td>\n",
       "      <td>M</td>\n",
       "      <td>Sophia</td>\n",
       "      <td>17</td>\n",
       "      <td>0.000009</td>\n",
       "      <td>True</td>\n",
       "      <td>24</td>\n",
       "      <td>0.000013</td>\n",
       "      <td>Sophia</td>\n",
       "    </tr>\n",
       "  </tbody>\n",
       "</table>\n",
       "</div>"
      ],
      "text/plain": [
       "           year sex    name      n      prop  counted  alt_n  alt_prop  \\\n",
       "1892201  2017.0   F  Sophia  14831  0.007910     True  23117  0.013504   \n",
       "1915957  2017.0   M  Sophia     17  0.000009     True     24  0.000013   \n",
       "\n",
       "        mapped_to  \n",
       "1892201    Sophia  \n",
       "1915957    Sophia  "
      ]
     },
     "execution_count": 24,
     "metadata": {},
     "output_type": "execute_result"
    }
   ],
   "source": [
    "out[(out.name == 'Sophia') & (out.mapped_to == 'Sophia')]"
   ]
  },
  {
   "cell_type": "code",
   "execution_count": 165,
   "metadata": {},
   "outputs": [
    {
     "name": "stdout",
     "output_type": "stream",
     "text": [
      "Number of names that are both gender: 837\n"
     ]
    }
   ],
   "source": [
    "mnames = out[(out.alt_n > 0) & (out.sex == 'M')]\n",
    "fnames = out[(out.alt_n > 0) & (out.sex == 'F')]\n",
    "both = out[out.name.isin(set(mnames.mapped_to.unique()) & set(fnames.mapped_to.unique()))].copy()\n",
    "print('Number of names that are both gender:', len(both)//2)"
   ]
  },
  {
   "cell_type": "code",
   "execution_count": 166,
   "metadata": {},
   "outputs": [
    {
     "data": {
      "text/html": [
       "<div>\n",
       "<style scoped>\n",
       "    .dataframe tbody tr th:only-of-type {\n",
       "        vertical-align: middle;\n",
       "    }\n",
       "\n",
       "    .dataframe tbody tr th {\n",
       "        vertical-align: top;\n",
       "    }\n",
       "\n",
       "    .dataframe thead th {\n",
       "        text-align: right;\n",
       "    }\n",
       "</style>\n",
       "<table border=\"1\" class=\"dataframe\">\n",
       "  <thead>\n",
       "    <tr style=\"text-align: right;\">\n",
       "      <th></th>\n",
       "      <th>year</th>\n",
       "      <th>sex</th>\n",
       "      <th>name</th>\n",
       "      <th>n</th>\n",
       "      <th>prop</th>\n",
       "      <th>counted</th>\n",
       "      <th>alt_n</th>\n",
       "      <th>alt_prop</th>\n",
       "      <th>mapped_to</th>\n",
       "    </tr>\n",
       "  </thead>\n",
       "  <tbody>\n",
       "    <tr>\n",
       "      <th>1892198</th>\n",
       "      <td>2017.0</td>\n",
       "      <td>F</td>\n",
       "      <td>Olivia</td>\n",
       "      <td>18632</td>\n",
       "      <td>0.009938</td>\n",
       "      <td>True</td>\n",
       "      <td>20437</td>\n",
       "      <td>0.011939</td>\n",
       "      <td>Olivia</td>\n",
       "    </tr>\n",
       "    <tr>\n",
       "      <th>1892200</th>\n",
       "      <td>2017.0</td>\n",
       "      <td>F</td>\n",
       "      <td>Isabella</td>\n",
       "      <td>15100</td>\n",
       "      <td>0.008054</td>\n",
       "      <td>True</td>\n",
       "      <td>18816</td>\n",
       "      <td>0.010992</td>\n",
       "      <td>Isabella</td>\n",
       "    </tr>\n",
       "    <tr>\n",
       "      <th>1892201</th>\n",
       "      <td>2017.0</td>\n",
       "      <td>F</td>\n",
       "      <td>Sophia</td>\n",
       "      <td>14831</td>\n",
       "      <td>0.007910</td>\n",
       "      <td>True</td>\n",
       "      <td>23117</td>\n",
       "      <td>0.013504</td>\n",
       "      <td>Sophia</td>\n",
       "    </tr>\n",
       "    <tr>\n",
       "      <th>1892202</th>\n",
       "      <td>2017.0</td>\n",
       "      <td>F</td>\n",
       "      <td>Mia</td>\n",
       "      <td>13437</td>\n",
       "      <td>0.007167</td>\n",
       "      <td>True</td>\n",
       "      <td>17484</td>\n",
       "      <td>0.010214</td>\n",
       "      <td>Mia</td>\n",
       "    </tr>\n",
       "    <tr>\n",
       "      <th>1892203</th>\n",
       "      <td>2017.0</td>\n",
       "      <td>F</td>\n",
       "      <td>Charlotte</td>\n",
       "      <td>12893</td>\n",
       "      <td>0.006877</td>\n",
       "      <td>True</td>\n",
       "      <td>12893</td>\n",
       "      <td>0.007532</td>\n",
       "      <td>Charlotte</td>\n",
       "    </tr>\n",
       "  </tbody>\n",
       "</table>\n",
       "</div>"
      ],
      "text/plain": [
       "           year sex       name      n      prop  counted  alt_n  alt_prop  \\\n",
       "1892198  2017.0   F     Olivia  18632  0.009938     True  20437  0.011939   \n",
       "1892200  2017.0   F   Isabella  15100  0.008054     True  18816  0.010992   \n",
       "1892201  2017.0   F     Sophia  14831  0.007910     True  23117  0.013504   \n",
       "1892202  2017.0   F        Mia  13437  0.007167     True  17484  0.010214   \n",
       "1892203  2017.0   F  Charlotte  12893  0.006877     True  12893  0.007532   \n",
       "\n",
       "         mapped_to  \n",
       "1892198     Olivia  \n",
       "1892200   Isabella  \n",
       "1892201     Sophia  \n",
       "1892202        Mia  \n",
       "1892203  Charlotte  "
      ]
     },
     "execution_count": 166,
     "metadata": {},
     "output_type": "execute_result"
    }
   ],
   "source": [
    "both.head()"
   ]
  },
  {
   "cell_type": "code",
   "execution_count": 167,
   "metadata": {},
   "outputs": [
    {
     "data": {
      "text/plain": [
       "low       1168\n",
       "medium     254\n",
       "high       252\n",
       "Name: gender_overlap, dtype: int64"
      ]
     },
     "execution_count": 167,
     "metadata": {},
     "output_type": "execute_result"
    }
   ],
   "source": [
    "# # to evaluate all names and report values\n",
    "# for name in both.name.unique():\n",
    "#     fcount = both[(both.name == name) & (both.sex == 'F')].alt_n.values[0]\n",
    "#     mcount = both[(both.name == name) & (both.sex == 'M')].alt_n.values[0]\n",
    "#     if ((fcount <= (mcount + mcount * .20)) & (fcount >= (mcount - mcount * .20))):\n",
    "#         print('name: ', name, 'has high gender overlap')\n",
    "#     elif ((fcount <= (mcount + mcount * .40)) & (fcount >= (mcount - mcount * .40))):\n",
    "#         print('name: ', name, 'has medium gender overlap')\n",
    "#     else:\n",
    "#         print('name: ', name, 'has low gender overlap')\n",
    "        \n",
    "def gender_eval(name):\n",
    "    fcount = both[(both.name == name) & (both.sex == 'F')].alt_n.values[0]\n",
    "    mcount = both[(both.name == name) & (both.sex == 'M')].alt_n.values[0]\n",
    "    if ((fcount <= (mcount + mcount * .40)) & (fcount >= (mcount - mcount * .40))):\n",
    "        return 'high'\n",
    "    elif ((fcount <= (mcount + mcount * .70)) & (fcount >= (mcount - mcount * .70))):\n",
    "        return 'medium'\n",
    "    else:\n",
    "        return 'low'\n",
    "\n",
    "both['gender_overlap'] = both.name.apply(gender_eval)\n",
    "both.gender_overlap.value_counts()"
   ]
  },
  {
   "cell_type": "code",
   "execution_count": 198,
   "metadata": {},
   "outputs": [
    {
     "data": {
      "text/html": [
       "<div>\n",
       "<style scoped>\n",
       "    .dataframe tbody tr th:only-of-type {\n",
       "        vertical-align: middle;\n",
       "    }\n",
       "\n",
       "    .dataframe tbody tr th {\n",
       "        vertical-align: top;\n",
       "    }\n",
       "\n",
       "    .dataframe thead th {\n",
       "        text-align: right;\n",
       "    }\n",
       "</style>\n",
       "<table border=\"1\" class=\"dataframe\">\n",
       "  <thead>\n",
       "    <tr style=\"text-align: right;\">\n",
       "      <th></th>\n",
       "      <th>year</th>\n",
       "      <th>sex</th>\n",
       "      <th>name</th>\n",
       "      <th>n</th>\n",
       "      <th>prop</th>\n",
       "      <th>counted</th>\n",
       "      <th>alt_n</th>\n",
       "      <th>alt_prop</th>\n",
       "      <th>mapped_to</th>\n",
       "      <th>gender_overlap</th>\n",
       "    </tr>\n",
       "  </thead>\n",
       "  <tbody>\n",
       "    <tr>\n",
       "      <th>1892355</th>\n",
       "      <td>2017.0</td>\n",
       "      <td>F</td>\n",
       "      <td>Finley</td>\n",
       "      <td>1859</td>\n",
       "      <td>0.000992</td>\n",
       "      <td>True</td>\n",
       "      <td>2252</td>\n",
       "      <td>0.001316</td>\n",
       "      <td>Finley</td>\n",
       "      <td>high</td>\n",
       "    </tr>\n",
       "    <tr>\n",
       "      <th>1910784</th>\n",
       "      <td>2017.0</td>\n",
       "      <td>M</td>\n",
       "      <td>Finley</td>\n",
       "      <td>1284</td>\n",
       "      <td>0.000654</td>\n",
       "      <td>True</td>\n",
       "      <td>1830</td>\n",
       "      <td>0.000998</td>\n",
       "      <td>Finley</td>\n",
       "      <td>high</td>\n",
       "    </tr>\n",
       "    <tr>\n",
       "      <th>1892470</th>\n",
       "      <td>2017.0</td>\n",
       "      <td>F</td>\n",
       "      <td>River</td>\n",
       "      <td>1166</td>\n",
       "      <td>0.000622</td>\n",
       "      <td>True</td>\n",
       "      <td>1195</td>\n",
       "      <td>0.000698</td>\n",
       "      <td>River</td>\n",
       "      <td>high</td>\n",
       "    </tr>\n",
       "    <tr>\n",
       "      <th>1910706</th>\n",
       "      <td>2017.0</td>\n",
       "      <td>M</td>\n",
       "      <td>River</td>\n",
       "      <td>1948</td>\n",
       "      <td>0.000992</td>\n",
       "      <td>True</td>\n",
       "      <td>1989</td>\n",
       "      <td>0.001084</td>\n",
       "      <td>River</td>\n",
       "      <td>high</td>\n",
       "    </tr>\n",
       "    <tr>\n",
       "      <th>1892408</th>\n",
       "      <td>2017.0</td>\n",
       "      <td>F</td>\n",
       "      <td>Rowan</td>\n",
       "      <td>1440</td>\n",
       "      <td>0.000768</td>\n",
       "      <td>True</td>\n",
       "      <td>2742</td>\n",
       "      <td>0.001602</td>\n",
       "      <td>Rowan</td>\n",
       "      <td>high</td>\n",
       "    </tr>\n",
       "    <tr>\n",
       "      <th>1910645</th>\n",
       "      <td>2017.0</td>\n",
       "      <td>M</td>\n",
       "      <td>Rowan</td>\n",
       "      <td>2827</td>\n",
       "      <td>0.001440</td>\n",
       "      <td>True</td>\n",
       "      <td>4175</td>\n",
       "      <td>0.002276</td>\n",
       "      <td>Rowan</td>\n",
       "      <td>high</td>\n",
       "    </tr>\n",
       "  </tbody>\n",
       "</table>\n",
       "</div>"
      ],
      "text/plain": [
       "           year sex    name     n      prop  counted  alt_n  alt_prop  \\\n",
       "1892355  2017.0   F  Finley  1859  0.000992     True   2252  0.001316   \n",
       "1910784  2017.0   M  Finley  1284  0.000654     True   1830  0.000998   \n",
       "1892470  2017.0   F   River  1166  0.000622     True   1195  0.000698   \n",
       "1910706  2017.0   M   River  1948  0.000992     True   1989  0.001084   \n",
       "1892408  2017.0   F   Rowan  1440  0.000768     True   2742  0.001602   \n",
       "1910645  2017.0   M   Rowan  2827  0.001440     True   4175  0.002276   \n",
       "\n",
       "        mapped_to gender_overlap  \n",
       "1892355    Finley           high  \n",
       "1910784    Finley           high  \n",
       "1892470     River           high  \n",
       "1910706     River           high  \n",
       "1892408     Rowan           high  \n",
       "1910645     Rowan           high  "
      ]
     },
     "execution_count": 198,
     "metadata": {},
     "output_type": "execute_result"
    }
   ],
   "source": [
    "# look at most common highly overlapping names\n",
    "samp = both[both.gender_overlap == 'high'].sort_values('alt_n', ascending=False).head(5).name\n",
    "both[both.name.isin(samp)].sort_values(['name', 'sex'])"
   ]
  },
  {
   "cell_type": "code",
   "execution_count": 200,
   "metadata": {},
   "outputs": [
    {
     "data": {
      "text/html": [
       "<div>\n",
       "<style scoped>\n",
       "    .dataframe tbody tr th:only-of-type {\n",
       "        vertical-align: middle;\n",
       "    }\n",
       "\n",
       "    .dataframe tbody tr th {\n",
       "        vertical-align: top;\n",
       "    }\n",
       "\n",
       "    .dataframe thead th {\n",
       "        text-align: right;\n",
       "    }\n",
       "</style>\n",
       "<table border=\"1\" class=\"dataframe\">\n",
       "  <thead>\n",
       "    <tr style=\"text-align: right;\">\n",
       "      <th></th>\n",
       "      <th>year</th>\n",
       "      <th>sex</th>\n",
       "      <th>name</th>\n",
       "      <th>n</th>\n",
       "      <th>prop</th>\n",
       "      <th>counted</th>\n",
       "      <th>alt_n</th>\n",
       "      <th>alt_prop</th>\n",
       "      <th>mapped_to</th>\n",
       "      <th>gender_overlap</th>\n",
       "    </tr>\n",
       "  </thead>\n",
       "  <tbody>\n",
       "    <tr>\n",
       "      <th>1895330</th>\n",
       "      <td>2017.0</td>\n",
       "      <td>F</td>\n",
       "      <td>Crimson</td>\n",
       "      <td>51</td>\n",
       "      <td>0.000027</td>\n",
       "      <td>True</td>\n",
       "      <td>62</td>\n",
       "      <td>0.000036</td>\n",
       "      <td>Crimson</td>\n",
       "      <td>medium</td>\n",
       "    </tr>\n",
       "    <tr>\n",
       "      <th>1913684</th>\n",
       "      <td>2017.0</td>\n",
       "      <td>M</td>\n",
       "      <td>Crimson</td>\n",
       "      <td>36</td>\n",
       "      <td>0.000018</td>\n",
       "      <td>True</td>\n",
       "      <td>42</td>\n",
       "      <td>0.000023</td>\n",
       "      <td>Crimson</td>\n",
       "      <td>medium</td>\n",
       "    </tr>\n",
       "    <tr>\n",
       "      <th>1904487</th>\n",
       "      <td>2017.0</td>\n",
       "      <td>F</td>\n",
       "      <td>Marvelous</td>\n",
       "      <td>8</td>\n",
       "      <td>0.000004</td>\n",
       "      <td>True</td>\n",
       "      <td>8</td>\n",
       "      <td>0.000005</td>\n",
       "      <td>Marvelous</td>\n",
       "      <td>medium</td>\n",
       "    </tr>\n",
       "    <tr>\n",
       "      <th>1923965</th>\n",
       "      <td>2017.0</td>\n",
       "      <td>M</td>\n",
       "      <td>Marvelous</td>\n",
       "      <td>5</td>\n",
       "      <td>0.000003</td>\n",
       "      <td>True</td>\n",
       "      <td>5</td>\n",
       "      <td>0.000003</td>\n",
       "      <td>Marvelous</td>\n",
       "      <td>medium</td>\n",
       "    </tr>\n",
       "    <tr>\n",
       "      <th>1896639</th>\n",
       "      <td>2017.0</td>\n",
       "      <td>F</td>\n",
       "      <td>Truth</td>\n",
       "      <td>32</td>\n",
       "      <td>0.000017</td>\n",
       "      <td>True</td>\n",
       "      <td>32</td>\n",
       "      <td>0.000019</td>\n",
       "      <td>Truth</td>\n",
       "      <td>medium</td>\n",
       "    </tr>\n",
       "    <tr>\n",
       "      <th>1912728</th>\n",
       "      <td>2017.0</td>\n",
       "      <td>M</td>\n",
       "      <td>Truth</td>\n",
       "      <td>60</td>\n",
       "      <td>0.000031</td>\n",
       "      <td>True</td>\n",
       "      <td>60</td>\n",
       "      <td>0.000033</td>\n",
       "      <td>Truth</td>\n",
       "      <td>medium</td>\n",
       "    </tr>\n",
       "  </tbody>\n",
       "</table>\n",
       "</div>"
      ],
      "text/plain": [
       "           year sex       name   n      prop  counted  alt_n  alt_prop  \\\n",
       "1895330  2017.0   F    Crimson  51  0.000027     True     62  0.000036   \n",
       "1913684  2017.0   M    Crimson  36  0.000018     True     42  0.000023   \n",
       "1904487  2017.0   F  Marvelous   8  0.000004     True      8  0.000005   \n",
       "1923965  2017.0   M  Marvelous   5  0.000003     True      5  0.000003   \n",
       "1896639  2017.0   F      Truth  32  0.000017     True     32  0.000019   \n",
       "1912728  2017.0   M      Truth  60  0.000031     True     60  0.000033   \n",
       "\n",
       "         mapped_to gender_overlap  \n",
       "1895330    Crimson         medium  \n",
       "1913684    Crimson         medium  \n",
       "1904487  Marvelous         medium  \n",
       "1923965  Marvelous         medium  \n",
       "1896639      Truth         medium  \n",
       "1912728      Truth         medium  "
      ]
     },
     "execution_count": 200,
     "metadata": {},
     "output_type": "execute_result"
    }
   ],
   "source": [
    "# random sample of medium overlapping names\n",
    "samp = samp = both[both.gender_overlap == 'medium'].name.sample(n=3, random_state=2213)\n",
    "both[both.name.isin(samp)].sort_values(['name', 'sex'])"
   ]
  },
  {
   "cell_type": "code",
   "execution_count": 201,
   "metadata": {},
   "outputs": [
    {
     "data": {
      "text/html": [
       "<div>\n",
       "<style scoped>\n",
       "    .dataframe tbody tr th:only-of-type {\n",
       "        vertical-align: middle;\n",
       "    }\n",
       "\n",
       "    .dataframe tbody tr th {\n",
       "        vertical-align: top;\n",
       "    }\n",
       "\n",
       "    .dataframe thead th {\n",
       "        text-align: right;\n",
       "    }\n",
       "</style>\n",
       "<table border=\"1\" class=\"dataframe\">\n",
       "  <thead>\n",
       "    <tr style=\"text-align: right;\">\n",
       "      <th></th>\n",
       "      <th>year</th>\n",
       "      <th>sex</th>\n",
       "      <th>name</th>\n",
       "      <th>n</th>\n",
       "      <th>prop</th>\n",
       "      <th>counted</th>\n",
       "      <th>alt_n</th>\n",
       "      <th>alt_prop</th>\n",
       "      <th>mapped_to</th>\n",
       "      <th>gender_overlap</th>\n",
       "    </tr>\n",
       "  </thead>\n",
       "  <tbody>\n",
       "    <tr>\n",
       "      <th>1894250</th>\n",
       "      <td>2017.0</td>\n",
       "      <td>F</td>\n",
       "      <td>Paxton</td>\n",
       "      <td>95</td>\n",
       "      <td>0.000051</td>\n",
       "      <td>True</td>\n",
       "      <td>95</td>\n",
       "      <td>0.000055</td>\n",
       "      <td>Paxton</td>\n",
       "      <td>low</td>\n",
       "    </tr>\n",
       "    <tr>\n",
       "      <th>1910711</th>\n",
       "      <td>2017.0</td>\n",
       "      <td>M</td>\n",
       "      <td>Paxton</td>\n",
       "      <td>1898</td>\n",
       "      <td>0.000967</td>\n",
       "      <td>True</td>\n",
       "      <td>1898</td>\n",
       "      <td>0.001035</td>\n",
       "      <td>Paxton</td>\n",
       "      <td>low</td>\n",
       "    </tr>\n",
       "    <tr>\n",
       "      <th>1892606</th>\n",
       "      <td>2017.0</td>\n",
       "      <td>F</td>\n",
       "      <td>Ryan</td>\n",
       "      <td>770</td>\n",
       "      <td>0.000411</td>\n",
       "      <td>True</td>\n",
       "      <td>1586</td>\n",
       "      <td>0.000927</td>\n",
       "      <td>Ryan</td>\n",
       "      <td>low</td>\n",
       "    </tr>\n",
       "    <tr>\n",
       "      <th>1910548</th>\n",
       "      <td>2017.0</td>\n",
       "      <td>M</td>\n",
       "      <td>Ryan</td>\n",
       "      <td>7652</td>\n",
       "      <td>0.003898</td>\n",
       "      <td>True</td>\n",
       "      <td>8848</td>\n",
       "      <td>0.004823</td>\n",
       "      <td>Ryan</td>\n",
       "      <td>low</td>\n",
       "    </tr>\n",
       "    <tr>\n",
       "      <th>1895048</th>\n",
       "      <td>2017.0</td>\n",
       "      <td>F</td>\n",
       "      <td>Snow</td>\n",
       "      <td>59</td>\n",
       "      <td>0.000031</td>\n",
       "      <td>True</td>\n",
       "      <td>59</td>\n",
       "      <td>0.000034</td>\n",
       "      <td>Snow</td>\n",
       "      <td>low</td>\n",
       "    </tr>\n",
       "    <tr>\n",
       "      <th>1922454</th>\n",
       "      <td>2017.0</td>\n",
       "      <td>M</td>\n",
       "      <td>Snow</td>\n",
       "      <td>6</td>\n",
       "      <td>0.000003</td>\n",
       "      <td>True</td>\n",
       "      <td>6</td>\n",
       "      <td>0.000003</td>\n",
       "      <td>Snow</td>\n",
       "      <td>low</td>\n",
       "    </tr>\n",
       "  </tbody>\n",
       "</table>\n",
       "</div>"
      ],
      "text/plain": [
       "           year sex    name     n      prop  counted  alt_n  alt_prop  \\\n",
       "1894250  2017.0   F  Paxton    95  0.000051     True     95  0.000055   \n",
       "1910711  2017.0   M  Paxton  1898  0.000967     True   1898  0.001035   \n",
       "1892606  2017.0   F    Ryan   770  0.000411     True   1586  0.000927   \n",
       "1910548  2017.0   M    Ryan  7652  0.003898     True   8848  0.004823   \n",
       "1895048  2017.0   F    Snow    59  0.000031     True     59  0.000034   \n",
       "1922454  2017.0   M    Snow     6  0.000003     True      6  0.000003   \n",
       "\n",
       "        mapped_to gender_overlap  \n",
       "1894250    Paxton            low  \n",
       "1910711    Paxton            low  \n",
       "1892606      Ryan            low  \n",
       "1910548      Ryan            low  \n",
       "1895048      Snow            low  \n",
       "1922454      Snow            low  "
      ]
     },
     "execution_count": 201,
     "metadata": {},
     "output_type": "execute_result"
    }
   ],
   "source": [
    "# random sample of low overlapping names\n",
    "samp = samp = both[both.gender_overlap == 'low'].name.sample(n=3, random_state=2213)\n",
    "both[both.name.isin(samp)].sort_values(['name', 'sex'])"
   ]
  },
  {
   "cell_type": "code",
   "execution_count": null,
   "metadata": {},
   "outputs": [],
   "source": []
  }
 ],
 "metadata": {
  "jupytext": {
   "formats": "ipynb,md"
  },
  "kernelspec": {
   "display_name": "Python 3",
   "language": "python",
   "name": "python3"
  },
  "language_info": {
   "codemirror_mode": {
    "name": "ipython",
    "version": 3
   },
   "file_extension": ".py",
   "mimetype": "text/x-python",
   "name": "python",
   "nbconvert_exporter": "python",
   "pygments_lexer": "ipython3",
   "version": "3.7.2"
  }
 },
 "nbformat": 4,
 "nbformat_minor": 2
}
