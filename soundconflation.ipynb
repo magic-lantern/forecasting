{
 "cells": [
  {
   "cell_type": "code",
   "execution_count": 1,
   "metadata": {},
   "outputs": [],
   "source": [
    "import fuzzy"
   ]
  },
  {
   "cell_type": "code",
   "execution_count": 2,
   "metadata": {},
   "outputs": [
    {
     "data": {
      "text/plain": [
       "'F2'"
      ]
     },
     "execution_count": 2,
     "metadata": {},
     "output_type": "execute_result"
    }
   ],
   "source": [
    "soundex = fuzzy.Soundex(10)\n",
    "soundex('fuzzy')"
   ]
  },
  {
   "cell_type": "code",
   "execution_count": 3,
   "metadata": {},
   "outputs": [
    {
     "data": {
      "text/plain": [
       "[b'FS', None]"
      ]
     },
     "execution_count": 3,
     "metadata": {},
     "output_type": "execute_result"
    }
   ],
   "source": [
    "dmeta = fuzzy.DMetaphone()\n",
    "dmeta('fuzzy')"
   ]
  },
  {
   "cell_type": "code",
   "execution_count": 4,
   "metadata": {},
   "outputs": [
    {
     "data": {
      "text/plain": [
       "'FASY'"
      ]
     },
     "execution_count": 4,
     "metadata": {},
     "output_type": "execute_result"
    }
   ],
   "source": [
    "fuzzy.nysiis('fuzzy')\n",
    "'FASY'"
   ]
  },
  {
   "cell_type": "code",
   "execution_count": null,
   "metadata": {},
   "outputs": [],
   "source": [
    "\"\"\"\n",
    "for name in names:\n",
    "    print('Name: ', name)\n",
    "    print('Soundex: ', soundex(name))\n",
    "    print('Metaphone: ', dmeta(name))\n",
    "    print('Nysiis: ', fuzzy.nysiis(name))\n",
    "    \"\"\""
   ]
  },
  {
   "cell_type": "code",
   "execution_count": 16,
   "metadata": {},
   "outputs": [
    {
     "data": {
      "text/plain": [
       "b'Sarah'"
      ]
     },
     "execution_count": 16,
     "metadata": {},
     "output_type": "execute_result"
    }
   ],
   "source": [
    "name = 'Sarah'\n",
    "n2 = name.encode(encoding='ascii',errors='strict')\n",
    "n2"
   ]
  },
  {
   "cell_type": "code",
   "execution_count": 20,
   "metadata": {},
   "outputs": [
    {
     "name": "stdout",
     "output_type": "stream",
     "text": [
      "b'Sarah'\n",
      "Soundex:  S6\n",
      "Metaphone:  [b'SR', None]\n",
      "Nysiis:  SAR\n",
      "b'Sara'\n"
     ]
    },
    {
     "ename": "UnicodeDecodeError",
     "evalue": "'ascii' codec can't decode byte 0xb2 in position 3: ordinal not in range(128)",
     "output_type": "error",
     "traceback": [
      "\u001b[0;31m---------------------------------------------------------------------------\u001b[0m",
      "\u001b[0;31mUnicodeDecodeError\u001b[0m                        Traceback (most recent call last)",
      "\u001b[0;32m<ipython-input-20-192e897ba19f>\u001b[0m in \u001b[0;36m<module>\u001b[0;34m\u001b[0m\n\u001b[1;32m      4\u001b[0m     \u001b[0mname\u001b[0m \u001b[0;34m=\u001b[0m \u001b[0mn\u001b[0m\u001b[0;34m.\u001b[0m\u001b[0mencode\u001b[0m\u001b[0;34m(\u001b[0m\u001b[0mencoding\u001b[0m\u001b[0;34m=\u001b[0m\u001b[0;34m'ascii'\u001b[0m\u001b[0;34m,\u001b[0m\u001b[0merrors\u001b[0m\u001b[0;34m=\u001b[0m\u001b[0;34m'strict'\u001b[0m\u001b[0;34m)\u001b[0m\u001b[0;34m\u001b[0m\u001b[0;34m\u001b[0m\u001b[0m\n\u001b[1;32m      5\u001b[0m     \u001b[0mprint\u001b[0m\u001b[0;34m(\u001b[0m\u001b[0mname\u001b[0m\u001b[0;34m)\u001b[0m\u001b[0;34m\u001b[0m\u001b[0;34m\u001b[0m\u001b[0m\n\u001b[0;32m----> 6\u001b[0;31m     \u001b[0mprint\u001b[0m\u001b[0;34m(\u001b[0m\u001b[0;34m'Soundex: '\u001b[0m\u001b[0;34m,\u001b[0m \u001b[0msoundex\u001b[0m\u001b[0;34m(\u001b[0m\u001b[0mname\u001b[0m\u001b[0;34m)\u001b[0m\u001b[0;34m)\u001b[0m\u001b[0;34m\u001b[0m\u001b[0;34m\u001b[0m\u001b[0m\n\u001b[0m\u001b[1;32m      7\u001b[0m     \u001b[0mprint\u001b[0m\u001b[0;34m(\u001b[0m\u001b[0;34m'Metaphone: '\u001b[0m\u001b[0;34m,\u001b[0m \u001b[0mdmeta\u001b[0m\u001b[0;34m(\u001b[0m\u001b[0mname\u001b[0m\u001b[0;34m)\u001b[0m\u001b[0;34m)\u001b[0m\u001b[0;34m\u001b[0m\u001b[0;34m\u001b[0m\u001b[0m\n\u001b[1;32m      8\u001b[0m     \u001b[0mprint\u001b[0m\u001b[0;34m(\u001b[0m\u001b[0;34m'Nysiis: '\u001b[0m\u001b[0;34m,\u001b[0m \u001b[0mfuzzy\u001b[0m\u001b[0;34m.\u001b[0m\u001b[0mnysiis\u001b[0m\u001b[0;34m(\u001b[0m\u001b[0mn\u001b[0m\u001b[0;34m)\u001b[0m\u001b[0;34m)\u001b[0m\u001b[0;34m\u001b[0m\u001b[0;34m\u001b[0m\u001b[0m\n",
      "\u001b[0;32msrc/fuzzy.pyx\u001b[0m in \u001b[0;36mfuzzy.Soundex.__call__\u001b[0;34m()\u001b[0m\n",
      "\u001b[0;31mUnicodeDecodeError\u001b[0m: 'ascii' codec can't decode byte 0xb2 in position 3: ordinal not in range(128)"
     ]
    }
   ],
   "source": [
    "#names = ['Sophia', 'Sofia', 'Seth']\n",
    "names = ['Sarah', 'Sara']\n",
    "for n in names:\n",
    "    name = n.encode(encoding='ascii',errors='strict')\n",
    "    print(name)\n",
    "    print('Soundex: ', soundex(name))\n",
    "    print('Metaphone: ', dmeta(name))\n",
    "    print('Nysiis: ', fuzzy.nysiis(n))\n",
    "\n"
   ]
  },
  {
   "cell_type": "code",
   "execution_count": 28,
   "metadata": {},
   "outputs": [
    {
     "name": "stdout",
     "output_type": "stream",
     "text": [
      "Name:  Sarah\n",
      "   Metaphone:  SR\n",
      "   Soundex:  S600\n",
      "   Nysiis:  SAR\n",
      "   Match Rating:  SRH\n",
      "Name:  Sara\n",
      "   Metaphone:  SR\n",
      "   Soundex:  S600\n",
      "   Nysiis:  SAR\n",
      "   Match Rating:  SR\n",
      "Name:  Seth\n",
      "   Metaphone:  S0\n",
      "   Soundex:  S300\n",
      "   Nysiis:  SAT\n",
      "   Match Rating:  STH\n",
      "Name:  Beth\n",
      "   Metaphone:  B0\n",
      "   Soundex:  B300\n",
      "   Nysiis:  BAT\n",
      "   Match Rating:  BTH\n",
      "Name:  Aaron\n",
      "   Metaphone:  RN\n",
      "   Soundex:  A650\n",
      "   Nysiis:  ARAN\n",
      "   Match Rating:  ARN\n",
      "Name:  Erin\n",
      "   Metaphone:  ERN\n",
      "   Soundex:  E650\n",
      "   Nysiis:  ERAN\n",
      "   Match Rating:  ERN\n"
     ]
    }
   ],
   "source": [
    "import jellyfish\n",
    "\n",
    "names = ['Sarah', 'Sara', 'Seth', 'Beth', 'Aaron', 'Erin']\n",
    "for name in names:\n",
    "    print('Name: ', name)\n",
    "    print('   Metaphone: ', jellyfish.metaphone(name))\n",
    "    print('   Soundex: ', jellyfish.soundex(name))\n",
    "    print('   Nysiis: ', jellyfish.nysiis(name))\n",
    "    print('   Match Rating: ', jellyfish.match_rating_codex(name))"
   ]
  },
  {
   "cell_type": "code",
   "execution_count": null,
   "metadata": {},
   "outputs": [],
   "source": [
    "# go through all names, add column for metaphone, soundex, nysiis\n",
    "# find where mataphone/soundex/sysiis don't match\n",
    "# which algorithm results in the most reduction of unique values?\n",
    "\n",
    "# once you have a name, calculing edit distance could be useful to identify common mispellings or mistakes\n",
    "# soundex similar sounding words/?\n",
    "\n",
    "# in baby_names_analysis, I was only looking at data from 1990 to now.\n",
    "# Would including more historical data help with prediction?"
   ]
  }
 ],
 "metadata": {
  "kernelspec": {
   "display_name": "Python 3",
   "language": "python",
   "name": "python3"
  },
  "language_info": {
   "codemirror_mode": {
    "name": "ipython",
    "version": 3
   },
   "file_extension": ".py",
   "mimetype": "text/x-python",
   "name": "python",
   "nbconvert_exporter": "python",
   "pygments_lexer": "ipython3",
   "version": "3.7.2"
  }
 },
 "nbformat": 4,
 "nbformat_minor": 2
}
